{
 "cells": [
  {
   "cell_type": "markdown",
   "metadata": {},
   "source": [
    "# Outline"
   ]
  },
  {
   "cell_type": "markdown",
   "metadata": {},
   "source": [
    "## Training and Tuning ML Models\n",
    "- Hyperparameter Tuning\n",
    "    - Algorithms for model tunign\n",
    "    - Sagemaker automated parameter tuning\n",
    "    - BERT Automated tuning\n",
    "    \n",
    "    - warm start hyperparameter turning\n",
    "        - speedup the tuning process\n",
    "    - Check point in machine learning\n",
    "        - managed spot training; to reduce the cost of training\n",
    "        \n",
    "    - Distirbuted training challenges\n",
    "        - Tune distributed training stragegies\n",
    "            - data panelism\n",
    "            - model panelism\n",
    "            \n",
    "    - Bring your own container"
   ]
  },
  {
   "cell_type": "markdown",
   "metadata": {},
   "source": [
    "# Advanced Model Training and Tuning"
   ]
  },
  {
   "cell_type": "markdown",
   "metadata": {},
   "source": [
    "<img src='./pics/courser outline.png'>\n",
    "\n",
    "- challenges in training and tuning large machine learning models while optimizing cost\n",
    "\n",
    "- Popular algorithms for hyperparameter tuning (Automatic)\n",
    "    - 4 algorithms\n",
    "    - <u>Grid search</u>\n",
    "        - specify parameters to tune\n",
    "        - specify the range of the values for each parameter\n",
    "        - the algorithm will train the model of every combination and find the best parameter\n",
    "\n",
    "        - Pros\n",
    "            - Explore all possible combintions\n",
    "            - works for small number of parameters\n",
    "        - Cons\n",
    "            - time consuming for large number of parameters\n",
    "            - doesn't scale for large number of parameters\n",
    "        \n",
    "    - <u>Random search</u>\n",
    "        - Specify the hyperparmter to tune\n",
    "        - Define the search space and stop criteria\n",
    "            - some stop criteria may be,\n",
    "                - time elapsed\n",
    "                - maximum number of models to be trained\n",
    "                \n",
    "        - Test random combinations within the search space\n",
    "        - select the best combination\n",
    "        \n",
    "        - Pros\n",
    "            - Faster than the grid search\n",
    "        - Cons\n",
    "            - May miss the best performing hyperparameters\n",
    "        \n",
    "    - <u>Bayesian optimization</u>\n",
    "        - Hyperparameter is treated as a regression problem\n",
    "        - Start with random hyperprameters\n",
    "        - Narrow down the search space around a better performing hyperprameter\n",
    "        \n",
    "        - Pros\n",
    "            - more efficient in finding the best hyperparameter\n",
    "            \n",
    "        - Cons\n",
    "            - requires sequential execution\n",
    "            - migh get stuck in local minima\n",
    "            \n",
    "            - <img src='./pics/local minima.png'>\n",
    "        \n",
    "            - this is a prominent probelm when we are using gradient discent for opimizing the probelm\n",
    "                \n",
    "    - <u>Hyperband</u>\n",
    "        - <b>Bandit-based</b> approach (exploitations, explorations)\n",
    "        - Start from random hyperparameters\n",
    "        - Explore set of hyperparameters for few iterations (after exploration abandon half of the least performing sets)\n",
    "        - choose best and explore longer\n",
    "        - Repeat until max_iterations reached or one candidate left\n",
    "        \n",
    "        - Pros\n",
    "            - Spends time efficiently\n",
    "        - Cons\n",
    "            - might discard good candidates early that converge slowly"
   ]
  },
  {
   "cell_type": "markdown",
   "metadata": {},
   "source": [
    "# Tune a BERT-based Text Classifer"
   ]
  },
  {
   "cell_type": "markdown",
   "metadata": {},
   "source": [
    "# <u>ML model training challenges</u>"
   ]
  },
  {
   "cell_type": "markdown",
   "metadata": {},
   "source": [
    "# Checkpointing"
   ]
  },
  {
   "cell_type": "markdown",
   "metadata": {},
   "source": [
    "# Distributed Training Strategies"
   ]
  },
  {
   "cell_type": "markdown",
   "metadata": {},
   "source": [
    "# Custom Algorithms with Amazon SageMaker"
   ]
  },
  {
   "cell_type": "code",
   "execution_count": null,
   "metadata": {},
   "outputs": [],
   "source": []
  }
 ],
 "metadata": {
  "kernelspec": {
   "display_name": "Python 3",
   "language": "python",
   "name": "python3"
  },
  "language_info": {
   "codemirror_mode": {
    "name": "ipython",
    "version": 3
   },
   "file_extension": ".py",
   "mimetype": "text/x-python",
   "name": "python",
   "nbconvert_exporter": "python",
   "pygments_lexer": "ipython3",
   "version": "3.8.10"
  }
 },
 "nbformat": 4,
 "nbformat_minor": 4
}
