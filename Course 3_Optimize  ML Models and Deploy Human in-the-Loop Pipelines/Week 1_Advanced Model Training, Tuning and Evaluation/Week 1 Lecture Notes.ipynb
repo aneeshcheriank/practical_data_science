{
 "cells": [
  {
   "cell_type": "markdown",
   "metadata": {},
   "source": [
    "# Outline"
   ]
  },
  {
   "cell_type": "markdown",
   "metadata": {},
   "source": [
    "## Training and Tuning ML Models\n",
    "- Hyperparameter Tuning\n",
    "    - Algorithms for model tunign\n",
    "    - Sagemaker automated parameter tuning\n",
    "    - BERT Automated tuning\n",
    "    \n",
    "    - warm start hyperparameter turning\n",
    "        - speedup the tuning process\n",
    "    - Check point in machine learning\n",
    "        - managed spot training; to reduce the cost of training\n",
    "        \n",
    "    - Distirbuted training challenges\n",
    "        - Tune distributed training stragegies\n",
    "            - data panelism\n",
    "            - model panelism\n",
    "            \n",
    "    - Bring your own container"
   ]
  },
  {
   "cell_type": "markdown",
   "metadata": {},
   "source": [
    "# Advanced Model Training and Tuning"
   ]
  },
  {
   "cell_type": "markdown",
   "metadata": {},
   "source": [
    "<img src='./pics/courser outline.png'>\n",
    "\n",
    "- challenges in training and tuning large machine learning models while optimizing cost\n",
    "\n",
    "- Popular algorithms for hyperparameter tuning (Automatic)\n",
    "    - 4 algorithms\n",
    "    - <u>Grid search</u>\n",
    "        - specify parameters to tune\n",
    "        - specify the range of the values for each parameter\n",
    "        - the algorithm will train the model of every combination and find the best parameter\n",
    "\n",
    "        - Pros\n",
    "            - Explore all possible combintions\n",
    "            - works for small number of parameters\n",
    "        - Cons\n",
    "            - time consuming for large number of parameters\n",
    "            - doesn't scale for large number of parameters\n",
    "        \n",
    "    - <u>Random search</u>\n",
    "        - Specify the hyperparmter to tune\n",
    "        - Define the search space and stop criteria\n",
    "            - some stop criteria may be,\n",
    "                - time elapsed\n",
    "                - maximum number of models to be trained\n",
    "                \n",
    "        - Test random combinations within the search space\n",
    "        - select the best combination\n",
    "        \n",
    "        - Pros\n",
    "            - Faster than the grid search\n",
    "        - Cons\n",
    "            - May miss the best performing hyperparameters\n",
    "        \n",
    "    - <u>Bayesian optimization</u>\n",
    "        - Hyperparameter is treated as a regression problem\n",
    "        - Start with random hyperprameters\n",
    "        - Narrow down the search space around a better performing hyperprameter\n",
    "        \n",
    "        - Pros\n",
    "            - more efficient in finding the best hyperparameter\n",
    "            \n",
    "        - Cons\n",
    "            - requires sequential execution\n",
    "            - migh get stuck in local minima\n",
    "            \n",
    "            - <img src='./pics/local minima.png'>\n",
    "        \n",
    "            - this is a prominent probelm when we are using gradient discent for opimizing the probelm\n",
    "                \n",
    "    - <u>Hyperband</u>\n",
    "        - <b>Bandit-based</b> approach (exploitations, explorations)\n",
    "        - Start from random hyperparameters\n",
    "        - Explore set of hyperparameters for few iterations (after exploration abandon half of the least performing sets)\n",
    "        - choose best and explore longer\n",
    "        - Repeat until max_iterations reached or one candidate left\n",
    "        \n",
    "        - Pros\n",
    "            - Spends time efficiently\n",
    "        - Cons\n",
    "            - might discard good candidates early that converge slowly"
   ]
  },
  {
   "cell_type": "markdown",
   "metadata": {},
   "source": [
    "# Tune a BERT-based Text Classifer"
   ]
  },
  {
   "cell_type": "markdown",
   "metadata": {},
   "source": [
    "- BERT model Hyper parameter tuning\n",
    "    - Run multiple training with diff hyperparameters\n",
    "    - the tunign ob accepts\n",
    "        - Turning strategy\n",
    "            - sagemaker natively supports 2 strategies\n",
    "                - Random\n",
    "                - Baysian\n",
    "                \n",
    "        - objective metrics\n",
    "            - an example will be maximize the validation accuracy\n",
    "            \n",
    "        <img src='./pics/Turning strategy.png'>\n",
    "        \n",
    "    - Use case\n",
    "        - Tune the BERT Text Classifier\n",
    "            - Tuning strategy\n",
    "                - Random\n",
    "            - Objective Metrics\n",
    "                - Maximize the validation accuracy\n",
    "                \n",
    "            - <b>Hyperparametes</b>\n",
    "                - learning rate?\n",
    "                - train_batch_size\n",
    "                \n",
    "    - The step involves in the process\n",
    "    \n",
    "        - create pytorch estimator\n",
    "            - define fixed hyperparameters that we donot ant to tune during the process\n",
    "            - create a dictionary\n",
    "            - <img src='./pics/hyperparameter dictionary.png'>\n",
    "            \n",
    "            - pass the fixed hyperparamerters to the estimator\n",
    "            \n",
    "        - create HPT(Hyperparameter Tuning) job\n",
    "            - define the tunable hyperparameres\n",
    "            - <img src='./pics/tunable hyperparameter dictionary.png'>\n",
    "            - specified the name of the hpyerparameters and the range of the values, along with that the hyperparameter tyep is also sepcified. The type may be one of the following,\n",
    "                - categorical\n",
    "                - continous\n",
    "                - integer \n",
    "                \n",
    "            - to test values insted of range (the pic `train_batch_size` parameter, specify it as a categorical parameter\n",
    "            - integer parameter\n",
    "                - <img src='./pics/integer parameter.png'>\n",
    "                - all values between 16 and 1024 has to be explored in the above case\n",
    "            - if the values to be explored is large use logarithamic scale to optimize the process (look at the pic above)\n",
    "            \n",
    "            - continous parameter \n",
    "                - learning rate may be a continous parameter\n",
    "                - <img src='./pics/continous parameter.png'>\n",
    "                \n",
    "            - Now create the Hyperparameter tuner object\n",
    "                - <img src='./pics/Hyperparameter tuner object.png'>\n",
    "                    - estimator is the estimator we defined for training\n",
    "                    - hyperparameter rage is the tunable hyperparameter defined\n",
    "                    - give the objective type\n",
    "                    \n",
    "            - `tuner.fit(inputs={...}, ...)`\n",
    "                \n",
    "        - analyze the results\n",
    "            - <img src='./pics/tuner result.png'>\n",
    "            \n",
    "       - Warm start\n",
    "           - start from a perviously trained hyperparameter job\n",
    "               - to change the hyperparameter range\n",
    "               - explore new set of hyperparameters\n",
    "               \n",
    "               - 2 jobs\n",
    "                   - IDENTICL_DATA_AND_ALGORITHM\n",
    "                       - same data and algorithm of the parent tuning job\n",
    "                       - can update the hyperparameter range and the maximum number of tuning jobs\n",
    "                   - TRANSFER_LEARNING\n",
    "                       - updated training data and a diff version of the training algorithm\n",
    "                       - warm start in code\n",
    "                       - <img src='./pics/warm start code.png'>\n",
    "                           - warm start config specifies is it an idendital data and code or a trasfer leaning problem in the warm start config \n",
    "                           - pass the warm start config to the Hyperparameter tuner job `warm_start_config` parameter\n",
    "\n",
    "\n",
    "## Best Practices\n",
    "    - select a small number of hyperparameters"
   ]
  },
  {
   "cell_type": "code",
   "execution_count": null,
   "metadata": {},
   "outputs": [],
   "source": []
  },
  {
   "cell_type": "markdown",
   "metadata": {},
   "source": [
    "# <u>ML model training challenges</u>"
   ]
  },
  {
   "cell_type": "markdown",
   "metadata": {},
   "source": [
    "# Checkpointing"
   ]
  },
  {
   "cell_type": "markdown",
   "metadata": {},
   "source": [
    "# Distributed Training Strategies"
   ]
  },
  {
   "cell_type": "markdown",
   "metadata": {},
   "source": [
    "# Custom Algorithms with Amazon SageMaker"
   ]
  },
  {
   "cell_type": "code",
   "execution_count": null,
   "metadata": {},
   "outputs": [],
   "source": []
  }
 ],
 "metadata": {
  "kernelspec": {
   "display_name": "Python 3",
   "language": "python",
   "name": "python3"
  },
  "language_info": {
   "codemirror_mode": {
    "name": "ipython",
    "version": 3
   },
   "file_extension": ".py",
   "mimetype": "text/x-python",
   "name": "python",
   "nbconvert_exporter": "python",
   "pygments_lexer": "ipython3",
   "version": "3.8.10"
  }
 },
 "nbformat": 4,
 "nbformat_minor": 4
}
